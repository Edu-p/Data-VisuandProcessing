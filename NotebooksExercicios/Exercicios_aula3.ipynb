{
 "cells": [
  {
   "cell_type": "markdown",
   "metadata": {},
   "source": [
    "# Pergunta 1"
   ]
  },
  {
   "cell_type": "code",
   "execution_count": 12,
   "metadata": {
    "ExecuteTime": {
     "end_time": "2021-03-22T12:54:32.442985Z",
     "start_time": "2021-03-22T12:54:32.368980Z"
    }
   },
   "outputs": [
    {
     "name": "stdout",
     "output_type": "stream",
     "text": [
      "    bedrooms         price\n",
      "0          0    5323550.00\n",
      "1          1   63210934.00\n",
      "2          2 1107788602.00\n",
      "3          3 4580263939.00\n",
      "4          4 4372957028.00\n",
      "5          5 1259346326.00\n",
      "6          6  224541613.00\n",
      "7          7   36145017.00\n",
      "8          8   14366000.00\n",
      "9          9    5363999.00\n",
      "10        10    2458000.00\n",
      "11        11     520000.00\n",
      "12        33     640000.00\n"
     ]
    }
   ],
   "source": [
    "import pandas as pd \n",
    "from matplotlib import pyplot as plt\n",
    "\n",
    "dataAula3 = pd.read_csv( 'C:/Users/PICHAU/Desktop/AnaliseDeDados/DataAnalysis/datasets/kc_house_data.csv' )\n",
    "\n",
    "dataAula3['dormitory_type'] = 'standard'\n",
    "\n",
    "dataAula3.loc[dataAula3['bedrooms']==1,'dormitory_type'] = 'studio'\n",
    "dataAula3.loc[dataAula3['bedrooms']==2,'dormitory_type'] = 'apartament'\n",
    "dataAula3.loc[dataAula3['bedrooms']>=1,'dormitory_type'] = 'house'\n",
    "\n",
    "priceByBedrooms = dataAula3[['price','bedrooms']].groupby( 'bedrooms' ).sum().reset_index()\n",
    "\n",
    "pd.set_option('display.float_format', lambda x: '%.2f' % x)\n",
    "\n",
    "plt.figure( figsize=(15, 12) )\n",
    "plt.bar( priceByBedrooms['bedrooms'],  )"
   ]
  }
 ],
 "metadata": {
  "kernelspec": {
   "display_name": "Python 3",
   "language": "python",
   "name": "python3"
  },
  "language_info": {
   "codemirror_mode": {
    "name": "ipython",
    "version": 3
   },
   "file_extension": ".py",
   "mimetype": "text/x-python",
   "name": "python",
   "nbconvert_exporter": "python",
   "pygments_lexer": "ipython3",
   "version": "3.8.5"
  },
  "latex_envs": {
   "LaTeX_envs_menu_present": true,
   "autoclose": false,
   "autocomplete": true,
   "bibliofile": "biblio.bib",
   "cite_by": "apalike",
   "current_citInitial": 1,
   "eqLabelWithNumbers": true,
   "eqNumInitial": 1,
   "hotkeys": {
    "equation": "Ctrl-E",
    "itemize": "Ctrl-I"
   },
   "labels_anchors": false,
   "latex_user_defs": false,
   "report_style_numbering": false,
   "user_envs_cfg": false
  },
  "varInspector": {
   "cols": {
    "lenName": 16,
    "lenType": 16,
    "lenVar": 40
   },
   "kernels_config": {
    "python": {
     "delete_cmd_postfix": "",
     "delete_cmd_prefix": "del ",
     "library": "var_list.py",
     "varRefreshCmd": "print(var_dic_list())"
    },
    "r": {
     "delete_cmd_postfix": ") ",
     "delete_cmd_prefix": "rm(",
     "library": "var_list.r",
     "varRefreshCmd": "cat(var_dic_list()) "
    }
   },
   "types_to_exclude": [
    "module",
    "function",
    "builtin_function_or_method",
    "instance",
    "_Feature"
   ],
   "window_display": false
  }
 },
 "nbformat": 4,
 "nbformat_minor": 4
}
