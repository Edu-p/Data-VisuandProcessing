{
 "cells": [
  {
   "cell_type": "markdown",
   "metadata": {
    "heading_collapsed": true
   },
   "source": [
    "# Question 1"
   ]
  },
  {
   "cell_type": "code",
   "execution_count": 2,
   "metadata": {
    "ExecuteTime": {
     "end_time": "2021-03-26T09:27:05.876776Z",
     "start_time": "2021-03-26T09:27:05.466746Z"
    },
    "hidden": true
   },
   "outputs": [],
   "source": [
    "import pandas as pd"
   ]
  },
  {
   "cell_type": "code",
   "execution_count": 3,
   "metadata": {
    "ExecuteTime": {
     "end_time": "2021-03-26T09:27:07.000860Z",
     "start_time": "2021-03-26T09:27:06.938857Z"
    },
    "hidden": true
   },
   "outputs": [],
   "source": [
    "df = pd.read_csv( 'C:/Users/PICHAU/Desktop/AnaliseDeDados/DataAnalysis/datasets/kc_house_data.csv' )"
   ]
  },
  {
   "cell_type": "code",
   "execution_count": 10,
   "metadata": {
    "ExecuteTime": {
     "end_time": "2021-03-26T09:32:34.760309Z",
     "start_time": "2021-03-26T09:32:34.755307Z"
    },
    "hidden": true
   },
   "outputs": [],
   "source": [
    "df['level'] = 15"
   ]
  },
  {
   "cell_type": "code",
   "execution_count": 20,
   "metadata": {
    "ExecuteTime": {
     "end_time": "2021-03-26T09:40:42.671700Z",
     "start_time": "2021-03-26T09:40:36.252221Z"
    },
    "hidden": true
   },
   "outputs": [],
   "source": [
    "for i in range( len(df) ):\n",
    "    if df.loc[i, 'price'] <= 321950:\n",
    "        df.loc[i,'level'] = 0\n",
    "    elif (df.loc[i, 'price'] > 321950) & (df.loc[i, 'price'] <= 450000):\n",
    "        df.loc[i,'level'] = 1\n",
    "    elif (df.loc[i, 'price'] > 450000) & (df.loc[i, 'price'] <= 645000):\n",
    "        df.loc[i,'level'] = 2\n",
    "    else:\n",
    "        df.loc[i,'level'] = 3"
   ]
  },
  {
   "cell_type": "markdown",
   "metadata": {
    "heading_collapsed": true
   },
   "source": [
    "# Question 2"
   ]
  },
  {
   "cell_type": "code",
   "execution_count": 22,
   "metadata": {
    "ExecuteTime": {
     "end_time": "2021-03-26T09:44:54.001444Z",
     "start_time": "2021-03-26T09:44:47.626970Z"
    },
    "hidden": true
   },
   "outputs": [
    {
     "name": "stdout",
     "output_type": "stream",
     "text": [
      "   size  sqft_living15\n",
      "0     0        1229.87\n",
      "1     1        1657.74\n",
      "2     2        2197.98\n",
      "3     3        3108.27\n"
     ]
    }
   ],
   "source": [
    "df['size'] = 100\n",
    "\n",
    "for i in range( len(df) ):\n",
    "    if df.loc[i, 'sqft_living15'] <= 1427:\n",
    "        df.loc[i,'size'] = 0\n",
    "    elif (df.loc[i, 'sqft_living15'] > 1427) & (df.loc[i, 'sqft_living15'] <= 1910):\n",
    "        df.loc[i,'size'] = 1\n",
    "    elif (df.loc[i, 'sqft_living15'] > 1910) & (df.loc[i, 'sqft_living15'] <= 2550):\n",
    "        df.loc[i,'size'] = 2\n",
    "    else:\n",
    "        df.loc[i,'size'] = 3\n",
    "        \n",
    "mean_by_size = df[['sqft_living15', 'size']].groupby( 'size' ).mean().reset_index() \n",
    "pd.set_option('display.float_format', lambda x: '%.2f' % x)\n",
    "print(mean_by_size)\n"
   ]
  }
 ],
 "metadata": {
  "kernelspec": {
   "display_name": "Python 3",
   "language": "python",
   "name": "python3"
  },
  "language_info": {
   "codemirror_mode": {
    "name": "ipython",
    "version": 3
   },
   "file_extension": ".py",
   "mimetype": "text/x-python",
   "name": "python",
   "nbconvert_exporter": "python",
   "pygments_lexer": "ipython3",
   "version": "3.8.5"
  },
  "latex_envs": {
   "LaTeX_envs_menu_present": true,
   "autoclose": false,
   "autocomplete": true,
   "bibliofile": "biblio.bib",
   "cite_by": "apalike",
   "current_citInitial": 1,
   "eqLabelWithNumbers": true,
   "eqNumInitial": 1,
   "hotkeys": {
    "equation": "Ctrl-E",
    "itemize": "Ctrl-I"
   },
   "labels_anchors": false,
   "latex_user_defs": false,
   "report_style_numbering": false,
   "user_envs_cfg": false
  },
  "varInspector": {
   "cols": {
    "lenName": 16,
    "lenType": 16,
    "lenVar": 40
   },
   "kernels_config": {
    "python": {
     "delete_cmd_postfix": "",
     "delete_cmd_prefix": "del ",
     "library": "var_list.py",
     "varRefreshCmd": "print(var_dic_list())"
    },
    "r": {
     "delete_cmd_postfix": ") ",
     "delete_cmd_prefix": "rm(",
     "library": "var_list.r",
     "varRefreshCmd": "cat(var_dic_list()) "
    }
   },
   "types_to_exclude": [
    "module",
    "function",
    "builtin_function_or_method",
    "instance",
    "_Feature"
   ],
   "window_display": false
  }
 },
 "nbformat": 4,
 "nbformat_minor": 4
}
