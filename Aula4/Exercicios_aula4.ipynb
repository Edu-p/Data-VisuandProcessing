{
 "cells": [
  {
   "cell_type": "markdown",
   "metadata": {},
   "source": [
    " Question 1"
   ]
  },
  {
   "cell_type": "code",
   "execution_count": 1,
   "metadata": {
    "ExecuteTime": {
     "end_time": "2021-03-26T09:27:05.876776Z",
     "start_time": "2021-03-26T09:27:05.466746Z"
    }
   },
   "outputs": [],
   "source": [
    "import pandas as pd"
   ]
  },
  {
   "cell_type": "code",
   "execution_count": 2,
   "metadata": {
    "ExecuteTime": {
     "end_time": "2021-03-26T09:27:07.000860Z",
     "start_time": "2021-03-26T09:27:06.938857Z"
    }
   },
   "outputs": [],
   "source": [
    "df = pd.read_csv( 'C:/Users/PICHAU/Desktop/AnaliseDeDados/DataAnalysis/datasets/kc_house_data.csv' )"
   ]
  },
  {
   "cell_type": "code",
   "execution_count": 4,
   "metadata": {
    "ExecuteTime": {
     "end_time": "2021-03-26T09:32:34.760309Z",
     "start_time": "2021-03-26T09:32:34.755307Z"
    }
   },
   "outputs": [],
   "source": [
    "df['level'] = 15"
   ]
  },
  {
   "cell_type": "code",
   "execution_count": 5,
   "metadata": {
    "ExecuteTime": {
     "end_time": "2021-03-26T14:10:25.551254Z",
     "start_time": "2021-03-26T14:10:25.282235Z"
    }
   },
   "outputs": [],
   "source": [
    "for i in range( len(df) ):\n",
    "    if df.loc[i, 'price'] <= 321950:\n",
    "        df.loc[i,'level'] = 0\n",
    "    elif (df.loc[i, 'price'] > 321950) & (df.loc[i, 'price'] <= 450000):\n",
    "        df.loc[i,'level'] = 1\n",
    "    elif (df.loc[i, 'price'] > 450000) & (df.loc[i, 'price'] <= 645000):\n",
    "        df.loc[i,'level'] = 2\n",
    "    else:\n",
    "        df.loc[i,'level'] = 3"
   ]
  },
  {
   "cell_type": "markdown",
   "metadata": {
    "heading_collapsed": true
   },
   "source": [
    "# Question 2"
   ]
  },
  {
   "cell_type": "code",
   "execution_count": 6,
   "metadata": {
    "ExecuteTime": {
     "end_time": "2021-03-26T09:44:54.001444Z",
     "start_time": "2021-03-26T09:44:47.626970Z"
    },
    "hidden": true
   },
   "outputs": [
    {
     "name": "stdout",
     "output_type": "stream",
     "text": [
      "   size  sqft_living15\n",
      "0     0        1229.87\n",
      "1     1        1657.74\n",
      "2     2        2197.98\n",
      "3     3        3108.27\n"
     ]
    }
   ],
   "source": [
    "df['size'] = 100\n",
    "\n",
    "for i in range( len(df) ):\n",
    "    if df.loc[i, 'sqft_living15'] <= 1427:\n",
    "        df.loc[i,'size'] = 0\n",
    "    elif (df.loc[i, 'sqft_living15'] > 1427) & (df.loc[i, 'sqft_living15'] <= 1910):\n",
    "        df.loc[i,'size'] = 1\n",
    "    elif (df.loc[i, 'sqft_living15'] > 1910) & (df.loc[i, 'sqft_living15'] <= 2550):\n",
    "        df.loc[i,'size'] = 2\n",
    "    else:\n",
    "        df.loc[i,'size'] = 3\n",
    "        \n",
    "mean_by_size = df[['sqft_living15', 'size']].groupby( 'size' ).mean().reset_index() \n",
    "pd.set_option('display.float_format', lambda x: '%.2f' % x)\n",
    "print(mean_by_size)\n"
   ]
  },
  {
   "cell_type": "markdown",
   "metadata": {
    "heading_collapsed": true
   },
   "source": [
    "# Question 3"
   ]
  },
  {
   "cell_type": "code",
   "execution_count": 24,
   "metadata": {
    "ExecuteTime": {
     "end_time": "2021-03-26T09:52:22.020863Z",
     "start_time": "2021-03-26T09:52:22.017860Z"
    },
    "hidden": true
   },
   "outputs": [],
   "source": [
    "from geopy.geocoders import Nominatim"
   ]
  },
  {
   "cell_type": "code",
   "execution_count": 7,
   "metadata": {
    "ExecuteTime": {
     "end_time": "2021-03-26T10:00:27.846096Z",
     "start_time": "2021-03-26T10:00:23.610783Z"
    },
    "hidden": true
   },
   "outputs": [
    {
     "ename": "NameError",
     "evalue": "name 'Nominatim' is not defined",
     "output_type": "error",
     "traceback": [
      "\u001B[1;31m---------------------------------------------------------------------------\u001B[0m",
      "\u001B[1;31mNameError\u001B[0m                                 Traceback (most recent call last)",
      "\u001B[1;32m<ipython-input-7-543b4429d08e>\u001B[0m in \u001B[0;36m<module>\u001B[1;34m\u001B[0m\n\u001B[0;32m      5\u001B[0m \u001B[0mdf\u001B[0m\u001B[1;33m[\u001B[0m\u001B[1;34m'country_code'\u001B[0m\u001B[1;33m]\u001B[0m \u001B[1;33m=\u001B[0m \u001B[1;34m'NA'\u001B[0m\u001B[1;33m\u001B[0m\u001B[1;33m\u001B[0m\u001B[0m\n\u001B[0;32m      6\u001B[0m \u001B[1;33m\u001B[0m\u001B[0m\n\u001B[1;32m----> 7\u001B[1;33m \u001B[0mgeolocator\u001B[0m \u001B[1;33m=\u001B[0m \u001B[0mNominatim\u001B[0m\u001B[1;33m(\u001B[0m \u001B[0muser_agent\u001B[0m\u001B[1;33m=\u001B[0m\u001B[1;34m'geoapiExercises'\u001B[0m \u001B[1;33m)\u001B[0m\u001B[1;33m\u001B[0m\u001B[1;33m\u001B[0m\u001B[0m\n\u001B[0m\u001B[0;32m      8\u001B[0m \u001B[1;32mfor\u001B[0m \u001B[0mi\u001B[0m \u001B[1;32min\u001B[0m \u001B[0mrange\u001B[0m\u001B[1;33m(\u001B[0m \u001B[0mlen\u001B[0m\u001B[1;33m(\u001B[0m \u001B[0mdf\u001B[0m \u001B[1;33m)\u001B[0m \u001B[1;33m)\u001B[0m\u001B[1;33m:\u001B[0m\u001B[1;33m\u001B[0m\u001B[1;33m\u001B[0m\u001B[0m\n\u001B[0;32m      9\u001B[0m     \u001B[0mprint\u001B[0m\u001B[1;33m(\u001B[0m \u001B[1;34m'Loop: {} / {}'\u001B[0m\u001B[1;33m.\u001B[0m\u001B[0mformat\u001B[0m\u001B[1;33m(\u001B[0m \u001B[0mi\u001B[0m\u001B[1;33m,\u001B[0m\u001B[0mlen\u001B[0m\u001B[1;33m(\u001B[0m \u001B[0mdf\u001B[0m \u001B[1;33m)\u001B[0m \u001B[1;33m)\u001B[0m \u001B[1;33m)\u001B[0m\u001B[1;33m\u001B[0m\u001B[1;33m\u001B[0m\u001B[0m\n",
      "\u001B[1;31mNameError\u001B[0m: name 'Nominatim' is not defined"
     ]
    }
   ],
   "source": [
    "# Creating empty rows\n",
    "df['place_id'] = 'NA'\n",
    "df['osm_type'] = 'NA'\n",
    "df['country'] = 'NA'\n",
    "df['country_code'] = 'NA'\n",
    "\n",
    "geolocator = Nominatim( user_agent='geoapiExercises' )\n",
    "for i in range( len( df ) ):\n",
    "    print( 'Loop: {} / {}'.format( i,len( df ) ) )\n",
    "    # make query\n",
    "    query = str( df.loc[i, 'lat'] ) + ',' + str( df.loc[i, 'long'] )\n",
    "    \n",
    "    # API request\n",
    "    response = geolocator.reverse( query ) # geralmente resultados de uma API a gente guarda em uma variavel chamada res\n",
    "    \n",
    "    # poupulate df\n",
    "    if 'place_id' in response.raw[ 'address' ]: #se existe o atributo 'place_id' dentro do json\n",
    "        df.loc[i, 'place_id'] = response.raw['address']['place_id']\n",
    "        \n",
    "    if 'osm_type' in response.raw[ 'address' ]:\n",
    "        df.loc[i, 'osm_type'] = response.raw['address']['osm_type']\n",
    "        \n",
    "    if 'country' in response.raw[ 'address' ]:\n",
    "        df.loc[i, 'country'] = response.raw['address']['country']\n",
    "        \n",
    "    if 'country_code' in response.raw[ 'address' ]:\n",
    "        df.loc[i, 'country_code'] = response.raw['address']['country_code']\n",
    "\n",
    "# print(response.raw['address']['osm_type'])\n",
    "# print(response.raw['address']['place_id'])\n",
    "# print(response.raw['address']['country'])\n",
    "# print(response.raw['address']['country_code'])\n",
    "# print(response.raw['address']['state'])\n",
    "\n"
   ]
  },
  {
   "cell_type": "markdown",
   "metadata": {
    "heading_collapsed": true
   },
   "source": [
    "# Question 4"
   ]
  },
  {
   "cell_type": "code",
   "execution_count": 9,
   "metadata": {
    "ExecuteTime": {
     "end_time": "2021-03-26T14:24:16.511232Z",
     "start_time": "2021-03-26T14:24:15.914189Z"
    },
    "hidden": true
   },
   "outputs": [],
   "source": [
    "import ipywidgets as widgets\n",
    "from ipywidgets import fixed\n",
    "import plotly.express as px"
   ]
  },
  {
   "cell_type": "code",
   "execution_count": 11,
   "metadata": {
    "ExecuteTime": {
     "end_time": "2021-03-26T14:52:46.499279Z",
     "start_time": "2021-03-26T14:52:46.450275Z"
    },
    "hidden": true
   },
   "outputs": [],
   "source": [
    "style = {'description_width' : 'initial'}\n",
    "\n",
    "# Interative buttons\n",
    "living_limit = widgets.IntSlider(\n",
    "        value = 5000,\n",
    "        min = 770,\n",
    "        max = 13540,\n",
    "        step = 1,\n",
    "        description='minimum area for living room',\n",
    "        disable=False,\n",
    "        style = style\n",
    ")\n",
    "\n",
    "bathroom_limit = widgets.FloatSlider(\n",
    "        value = 4,\n",
    "        min = 0,\n",
    "        max = 8,\n",
    "        step = 1,\n",
    "        description='bathrooms at minimum',\n",
    "        disable=False,\n",
    "        style = style,\n",
    "        readout_format='.1f'\n",
    ")\n",
    "\n",
    "max_area_basement = widgets.IntSlider(\n",
    "        value = 400,\n",
    "        min = 0,\n",
    "        max = 910,\n",
    "        step = 1,\n",
    "        description='maximum area of basement',\n",
    "        disable=False,\n",
    "        style = style,\n",
    ")\n",
    "\n",
    "condition_bar = widgets.Dropdown(\n",
    "        options = df['condition'].unique().tolist(),# unique pega so as opçoes diferentes de toda a lista, sem contar os repetidos,#tolist transforma em uma lista o array      \n",
    "        value = 3,\n",
    "        description = 'condition',\n",
    "        disable = False\n",
    ")  \n",
    "\n",
    "yr_built_bar = widgets.Dropdown(\n",
    "        options = df['yr_built'].unique().tolist(),# unique pega so as opçoes diferentes de toda a lista, sem contar os repetidos,#tolist transforma em uma lista o array      \n",
    "        value = 1980,\n",
    "        description = 'year of construction',\n",
    "        disable = False\n",
    ")  \n",
    "\n",
    "def update_map( df,livingLimit,bathLimit,basementMaxArea,condition,yrBuilt ):\n",
    "    \n",
    "    houses = df[ (df['sqft_living'] >= livingLimit) & (df['bathrooms'] >= bathLimit)\n",
    "                & (df['sqft_basement'] <= basementMaxArea) & (df['condition'] >= condition)\n",
    "                & (df['yr_built'] >= yrBuilt) ][['id','lat','long','price','level']]\n",
    "    \n",
    "    fig = px.scatter_mapbox( houses,\n",
    "                             lat ='lat',\n",
    "                             lon = 'long',\n",
    "                             color = 'level',\n",
    "                             size = 'price',\n",
    "                             color_continuous_scale=px.colors.cyclical.IceFire,\n",
    "                             size_max = 15,\n",
    "                             zoom = 10)\n",
    "\n",
    "    fig.update_layout( mapbox_style='open-street-map' )\n",
    "    fig.update_layout( height = 600, margin={'r':0, 't':0, 'l':0, 'b':0} )\n",
    "    fig.show()\n",
    "\n",
    "\n",
    "\n"
   ]
  },
  {
   "cell_type": "code",
   "execution_count": 78,
   "metadata": {
    "ExecuteTime": {
     "end_time": "2021-03-26T14:24:26.847005Z",
     "start_time": "2021-03-26T14:24:19.219436Z"
    },
    "hidden": true
   },
   "outputs": [
    {
     "data": {
      "application/vnd.jupyter.widget-view+json": {
       "model_id": "09388c37a9f846439a67110addf47a8d",
       "version_major": 2,
       "version_minor": 0
      },
      "text/plain": [
       "interactive(children=(IntSlider(value=5000, description='minimum area for living room', max=13540, min=770, st…"
      ]
     },
     "metadata": {},
     "output_type": "display_data"
    }
   ],
   "source": [
    "widgets.interactive( update_map, df=fixed( df ), livingLimit=living_limit, bathLimit=bathroom_limit, basementMaxArea=max_area_basement,condition=condition_bar,yrBuilt=yr_built_bar )# fixed diz qeu so qeum pode variar é o filtro e nao os dados"
   ]
  },
  {
   "cell_type": "markdown",
   "metadata": {},
   "source": [
    "# Question 5"
   ]
  },
  {
   "cell_type": "code",
   "execution_count": 85,
   "metadata": {
    "ExecuteTime": {
     "end_time": "2021-03-26T14:42:38.888961Z",
     "start_time": "2021-03-26T14:42:38.885959Z"
    }
   },
   "outputs": [],
   "source": [
    "import ipywidgets as widgets\n",
    "from matplotlib import gridspec\n",
    "from matplotlib import pyplot as plt\n",
    "from datetime import datetime"
   ]
  },
  {
   "cell_type": "code",
   "execution_count": 13,
   "metadata": {
    "ExecuteTime": {
     "end_time": "2021-03-26T15:11:10.426124Z",
     "start_time": "2021-03-26T15:11:10.002092Z"
    }
   },
   "outputs": [],
   "source": [
    "df['is_waterfront'] = df['waterfront'].apply(lambda x:'yes' if x==1 else 'no')\n",
    "\n",
    "# change date format\n",
    "df['year'] = pd.to_datetime( df['date'] ).dt.strftime( '%Y' )\n",
    "df['date'] = pd.to_datetime( df['date'] ).dt.strftime( '%Y-%m-%d' )\n",
    "\n",
    "# widgets to control data and waterfront\n",
    "date_limit = widgets.SelectionSlider(\n",
    "            options = df['date'].sort_values().unique().tolist(),\n",
    "            value = '2014-12-01',\n",
    "            description = 'Disponivel',\n",
    "            continuous_update=False,\n",
    "            orientation='horizontal',\n",
    "            readout=True )\n",
    "\n",
    "renovated_bar = widgets.Dropdown(\n",
    "        options = df['yr_renovated'].unique().tolist(),# unique pega so as opçoes diferentes de toda a lista, sem contar os repetidos,#tolist transforma em uma lista o array      \n",
    "        value = 2000,\n",
    "        description = 'year renovated',\n",
    "        disable = False) \n",
    "\n",
    "waterfront_bar = widgets.Dropdown(\n",
    "        options = df['is_waterfront'].unique().tolist(),# unique pega so as opçoes diferentes de toda a lista, sem contar os repetidos,#tolist transforma em uma lista o array      \n",
    "        value = 'yes',\n",
    "        description = 'Water View',\n",
    "        disable = False) \n",
    "\n",
    "def update_map( df,limit_date,waterfront,limit_renov ):\n",
    "    # Data Filter\n",
    "    df = df[(df['date'] >= limit_date) & (df['yr_renovated'] == limit_renov)\n",
    "             & (df['is_waterfront'] == waterfront)].copy()\n",
    "    \n",
    "    \n",
    "    fig = plt.figure(figsize = (20,12))\n",
    "    specs = gridspec.GridSpec( ncols=1, nrows=2, figure=fig )\n",
    "    ax1 = fig.add_subplot( specs[0, :] ) # First row\n",
    "    ax2 = fig.add_subplot( specs[1, :] )\n",
    "    \n",
    "    by_year = df[['price','year']].groupby( 'year' ).sum().reset_index()\n",
    "    ax1.bar( by_year['year'], by_year['price'] )\n",
    "    ax1.set_title( 'title: Avarage Price by Year' )\n",
    "    \n",
    "    by_date = df[['price','date']].groupby( 'date' ).sum().reset_index()\n",
    "    ax2.plot( by_date['date'], by_date['price'] )\n",
    "    ax2.set_title( 'title: Avarage Price by date' )\n",
    "    \n",
    "    \n"
   ]
  },
  {
   "cell_type": "code",
   "execution_count": 12,
   "metadata": {
    "ExecuteTime": {
     "end_time": "2021-03-26T15:11:12.062246Z",
     "start_time": "2021-03-26T15:11:11.674217Z"
    }
   },
   "outputs": [
    {
     "ename": "NameError",
     "evalue": "name 'date_limit' is not defined",
     "output_type": "error",
     "traceback": [
      "\u001B[1;31m---------------------------------------------------------------------------\u001B[0m",
      "\u001B[1;31mNameError\u001B[0m                                 Traceback (most recent call last)",
      "\u001B[1;32m<ipython-input-12-951de9b9252f>\u001B[0m in \u001B[0;36m<module>\u001B[1;34m\u001B[0m\n\u001B[1;32m----> 1\u001B[1;33m \u001B[0mwidgets\u001B[0m\u001B[1;33m.\u001B[0m\u001B[0minteractive\u001B[0m\u001B[1;33m(\u001B[0m \u001B[0mupdate_map\u001B[0m\u001B[1;33m,\u001B[0m \u001B[0mdf\u001B[0m\u001B[1;33m=\u001B[0m\u001B[0mfixed\u001B[0m\u001B[1;33m(\u001B[0m \u001B[0mdf\u001B[0m \u001B[1;33m)\u001B[0m\u001B[1;33m,\u001B[0m \u001B[0mlimit_date\u001B[0m\u001B[1;33m=\u001B[0m\u001B[0mdate_limit\u001B[0m\u001B[1;33m,\u001B[0m \u001B[0mlimit_renov\u001B[0m\u001B[1;33m=\u001B[0m\u001B[0mrenovated_bar\u001B[0m\u001B[1;33m,\u001B[0m \u001B[0mwaterfront\u001B[0m\u001B[1;33m=\u001B[0m\u001B[0mwaterfront_bar\u001B[0m \u001B[1;33m)\u001B[0m\u001B[1;33m\u001B[0m\u001B[1;33m\u001B[0m\u001B[0m\n\u001B[0m",
      "\u001B[1;31mNameError\u001B[0m: name 'date_limit' is not defined"
     ]
    }
   ],
   "source": [
    "widgets.interactive( update_map, df=fixed( df ), limit_date=date_limit, limit_renov=renovated_bar, waterfront=waterfront_bar )"
   ]
  }
 ],
 "metadata": {
  "kernelspec": {
   "display_name": "Python 3",
   "language": "python",
   "name": "python3"
  },
  "language_info": {
   "codemirror_mode": {
    "name": "ipython",
    "version": 3
   },
   "file_extension": ".py",
   "mimetype": "text/x-python",
   "name": "python",
   "nbconvert_exporter": "python",
   "pygments_lexer": "ipython3",
   "version": "3.8.8"
  },
  "latex_envs": {
   "LaTeX_envs_menu_present": true,
   "autoclose": false,
   "autocomplete": true,
   "bibliofile": "biblio.bib",
   "cite_by": "apalike",
   "current_citInitial": 1,
   "eqLabelWithNumbers": true,
   "eqNumInitial": 1,
   "hotkeys": {
    "equation": "Ctrl-E",
    "itemize": "Ctrl-I"
   },
   "labels_anchors": false,
   "latex_user_defs": false,
   "report_style_numbering": false,
   "user_envs_cfg": false
  },
  "varInspector": {
   "cols": {
    "lenName": 16,
    "lenType": 16,
    "lenVar": 40
   },
   "kernels_config": {
    "python": {
     "delete_cmd_postfix": "",
     "delete_cmd_prefix": "del ",
     "library": "var_list.py",
     "varRefreshCmd": "print(var_dic_list())"
    },
    "r": {
     "delete_cmd_postfix": ") ",
     "delete_cmd_prefix": "rm(",
     "library": "var_list.r",
     "varRefreshCmd": "cat(var_dic_list()) "
    }
   },
   "types_to_exclude": [
    "module",
    "function",
    "builtin_function_or_method",
    "instance",
    "_Feature"
   ],
   "window_display": false
  }
 },
 "nbformat": 4,
 "nbformat_minor": 4
}