{
 "cells": [
  {
   "cell_type": "markdown",
   "metadata": {
    "collapsed": true,
    "pycharm": {
     "name": "#%% md\n"
    }
   },
   "source": [
    "# Aula 5: funçoes e estrutura de dados"
   ]
  },
  {
   "cell_type": "code",
   "execution_count": 1,
   "outputs": [],
   "source": [
    "import pandas as pd"
   ],
   "metadata": {
    "collapsed": false,
    "pycharm": {
     "name": "#%%\n"
    }
   }
  },
  {
   "cell_type": "code",
   "execution_count": 21,
   "outputs": [
    {
     "data": {
      "text/plain": "           id             date     price  bedrooms  bathrooms  sqft_living  \\\n0  7129300520  20141013T000000  221900.0         3       1.00         1180   \n1  6414100192  20141209T000000  538000.0         3       2.25         2570   \n2  5631500400  20150225T000000  180000.0         2       1.00          770   \n3  2487200875  20141209T000000  604000.0         4       3.00         1960   \n4  1954400510  20150218T000000  510000.0         3       2.00         1680   \n\n   sqft_lot  floors  waterfront  view  ...  grade  sqft_above  sqft_basement  \\\n0      5650     1.0           0     0  ...      7        1180              0   \n1      7242     2.0           0     0  ...      7        2170            400   \n2     10000     1.0           0     0  ...      6         770              0   \n3      5000     1.0           0     0  ...      7        1050            910   \n4      8080     1.0           0     0  ...      8        1680              0   \n\n   yr_built  yr_renovated  zipcode      lat     long  sqft_living15  \\\n0      1955             0    98178  47.5112 -122.257           1340   \n1      1951          1991    98125  47.7210 -122.319           1690   \n2      1933             0    98028  47.7379 -122.233           2720   \n3      1965             0    98136  47.5208 -122.393           1360   \n4      1987             0    98074  47.6168 -122.045           1800   \n\n   sqft_lot15  \n0        5650  \n1        7639  \n2        8062  \n3        5000  \n4        7503  \n\n[5 rows x 21 columns]",
      "text/html": "<div>\n<style scoped>\n    .dataframe tbody tr th:only-of-type {\n        vertical-align: middle;\n    }\n\n    .dataframe tbody tr th {\n        vertical-align: top;\n    }\n\n    .dataframe thead th {\n        text-align: right;\n    }\n</style>\n<table border=\"1\" class=\"dataframe\">\n  <thead>\n    <tr style=\"text-align: right;\">\n      <th></th>\n      <th>id</th>\n      <th>date</th>\n      <th>price</th>\n      <th>bedrooms</th>\n      <th>bathrooms</th>\n      <th>sqft_living</th>\n      <th>sqft_lot</th>\n      <th>floors</th>\n      <th>waterfront</th>\n      <th>view</th>\n      <th>...</th>\n      <th>grade</th>\n      <th>sqft_above</th>\n      <th>sqft_basement</th>\n      <th>yr_built</th>\n      <th>yr_renovated</th>\n      <th>zipcode</th>\n      <th>lat</th>\n      <th>long</th>\n      <th>sqft_living15</th>\n      <th>sqft_lot15</th>\n    </tr>\n  </thead>\n  <tbody>\n    <tr>\n      <th>0</th>\n      <td>7129300520</td>\n      <td>20141013T000000</td>\n      <td>221900.0</td>\n      <td>3</td>\n      <td>1.00</td>\n      <td>1180</td>\n      <td>5650</td>\n      <td>1.0</td>\n      <td>0</td>\n      <td>0</td>\n      <td>...</td>\n      <td>7</td>\n      <td>1180</td>\n      <td>0</td>\n      <td>1955</td>\n      <td>0</td>\n      <td>98178</td>\n      <td>47.5112</td>\n      <td>-122.257</td>\n      <td>1340</td>\n      <td>5650</td>\n    </tr>\n    <tr>\n      <th>1</th>\n      <td>6414100192</td>\n      <td>20141209T000000</td>\n      <td>538000.0</td>\n      <td>3</td>\n      <td>2.25</td>\n      <td>2570</td>\n      <td>7242</td>\n      <td>2.0</td>\n      <td>0</td>\n      <td>0</td>\n      <td>...</td>\n      <td>7</td>\n      <td>2170</td>\n      <td>400</td>\n      <td>1951</td>\n      <td>1991</td>\n      <td>98125</td>\n      <td>47.7210</td>\n      <td>-122.319</td>\n      <td>1690</td>\n      <td>7639</td>\n    </tr>\n    <tr>\n      <th>2</th>\n      <td>5631500400</td>\n      <td>20150225T000000</td>\n      <td>180000.0</td>\n      <td>2</td>\n      <td>1.00</td>\n      <td>770</td>\n      <td>10000</td>\n      <td>1.0</td>\n      <td>0</td>\n      <td>0</td>\n      <td>...</td>\n      <td>6</td>\n      <td>770</td>\n      <td>0</td>\n      <td>1933</td>\n      <td>0</td>\n      <td>98028</td>\n      <td>47.7379</td>\n      <td>-122.233</td>\n      <td>2720</td>\n      <td>8062</td>\n    </tr>\n    <tr>\n      <th>3</th>\n      <td>2487200875</td>\n      <td>20141209T000000</td>\n      <td>604000.0</td>\n      <td>4</td>\n      <td>3.00</td>\n      <td>1960</td>\n      <td>5000</td>\n      <td>1.0</td>\n      <td>0</td>\n      <td>0</td>\n      <td>...</td>\n      <td>7</td>\n      <td>1050</td>\n      <td>910</td>\n      <td>1965</td>\n      <td>0</td>\n      <td>98136</td>\n      <td>47.5208</td>\n      <td>-122.393</td>\n      <td>1360</td>\n      <td>5000</td>\n    </tr>\n    <tr>\n      <th>4</th>\n      <td>1954400510</td>\n      <td>20150218T000000</td>\n      <td>510000.0</td>\n      <td>3</td>\n      <td>2.00</td>\n      <td>1680</td>\n      <td>8080</td>\n      <td>1.0</td>\n      <td>0</td>\n      <td>0</td>\n      <td>...</td>\n      <td>8</td>\n      <td>1680</td>\n      <td>0</td>\n      <td>1987</td>\n      <td>0</td>\n      <td>98074</td>\n      <td>47.6168</td>\n      <td>-122.045</td>\n      <td>1800</td>\n      <td>7503</td>\n    </tr>\n  </tbody>\n</table>\n<p>5 rows × 21 columns</p>\n</div>"
     },
     "execution_count": 21,
     "metadata": {},
     "output_type": "execute_result"
    }
   ],
   "source": [
    "# load dataset\n",
    "data = pd.read_csv( 'C:/Users/PICHAU/Desktop/AnaliseDeDados/DataAnalysis/datasets/kc_house_data.csv' )\n",
    "data.head()"
   ],
   "metadata": {
    "collapsed": false,
    "pycharm": {
     "name": "#%%\n"
    }
   }
  },
  {
   "cell_type": "code",
   "execution_count": 22,
   "outputs": [
    {
     "name": "stdout",
     "output_type": "stream",
     "text": [
      "Number of rows: 21613\n",
      "Number of columns: 21\n"
     ]
    }
   ],
   "source": [
    "# data dimensions\n",
    "print( 'Number of rows: {}'.format( data.shape[0] ) )\n",
    "print( 'Number of columns: {}'.format( data.shape[1] ) )"
   ],
   "metadata": {
    "collapsed": false,
    "pycharm": {
     "name": "#%%\n"
    }
   }
  },
  {
   "cell_type": "code",
   "execution_count": 23,
   "outputs": [],
   "source": [
    "# convert object to date\n",
    "data['date'] = pd.to_datetime( data['date'] )"
   ],
   "metadata": {
    "collapsed": false,
    "pycharm": {
     "name": "#%%\n"
    }
   }
  },
  {
   "cell_type": "code",
   "source": [
    "# showing types\n",
    "data.dtypes"
   ],
   "metadata": {
    "collapsed": false,
    "pycharm": {
     "name": "#%%\n"
    }
   },
   "execution_count": null,
   "outputs": []
  },
  {
   "cell_type": "code",
   "execution_count": 32,
   "outputs": [
    {
     "name": "stdout",
     "output_type": "stream",
     "text": [
      "Number of rows: 20\n",
      "Number of columns: 6\n"
     ]
    }
   ],
   "source": [
    "# Descriptive statistics\n",
    "# essa analise descritiva é muito boa para olharmos de primeira como que funciona o nosso conjunto de dados\n",
    "num_attributes = data.select_dtypes( include=['int64','float64'] )\n",
    "\n",
    "\n",
    "# central tendency - media, mediana\n",
    "import numpy as np\n",
    "media =  pd.DataFrame( num_attributes.apply( np.mean, axis=0 ) )\n",
    "#apply aplica uma funçao em todas as linhas ou colunas,\n",
    "#axis=0 é para aplicar ao longo das linhas\n",
    "mediana = pd.DataFrame( num_attributes.apply( np.median, axis=0 ) )\n",
    "\n",
    "\n",
    "# dispersion - std,min, max\n",
    "std =  pd.DataFrame( num_attributes.apply( np.std, axis=0 ) )\n",
    "min_ = pd.DataFrame( num_attributes.apply( np.min, axis=0 ) )\n",
    "max_ = pd.DataFrame( num_attributes.apply( np.min,axis=0 ) )\n",
    "\n",
    "df1  = pd.concat( [max_,max_,media,mediana,std], axis=1 ).reset_index()\n",
    "#concatena o que vc passar, no caso vamos passar uma sequencia de dataframes\n",
    "df1.columns = ['atributes', 'maximo' ,'minimo', 'media', 'mediana', 'std']\n",
    "# desse jeito tambem tem como nos renomearmos as colunas\n",
    "pd.set_option('display.float_format', lambda x: '%.3f' % x)\n",
    "#tira notacao cientifica\n",
    "\n",
    "print( 'Number of rows: {}'.format( df1.shape[0] ) )\n",
    "print( 'Number of columns: {}'.format( df1.shape[1] ) )\n"
   ],
   "metadata": {
    "collapsed": false,
    "pycharm": {
     "name": "#%%\n"
    }
   }
  },
  {
   "cell_type": "code",
   "execution_count": 36,
   "outputs": [],
   "source": [
    "# Crie uma nova coluna chamada: \"dormitory_type\"\n",
    "# \"bedrooms\" == 1 => 'studio'\n",
    "# \"bedrooms\" == 2 => 'apartament'\n",
    "# \"bedrooms\" > 2 => 'house'\n",
    "\n",
    "data['dormitory_type'] = 'NA'\n",
    "\n",
    "# usando for:\n",
    "for i in range( len(data) ):# olhar como o range funciona, é bem simples\n",
    "    if data.loc[i, 'bedrooms'] == 1:\n",
    "        data.loc[i,'dormitory_type'] = 'studio'\n",
    "    elif data.loc[i, 'bedrooms'] == 2:\n",
    "        data.loc[i,'dormitory_type'] = 'apartament'\n",
    "    else:\n",
    "        data.loc[i,'dormitory_type'] = 'house'\n"
   ],
   "metadata": {
    "collapsed": false,
    "pycharm": {
     "name": "#%%\n"
    }
   }
  },
  {
   "cell_type": "code",
   "execution_count": 38,
   "outputs": [],
   "source": [
    "# Quantidade de imoveis por nivel?\n",
    "#     - nivel 0 : Preço entre 0 e 321.950\n",
    "#     - nivel 1 : Preço entre 321.950 e 450.000\n",
    "#     - nivel 2 : Preço entre 450.000 e 645.000\n",
    "#     - nivel 3 : Preço acima de 645.000\n",
    "\n",
    "data['level'] = None\n",
    "for i in range( len(data) ):\n",
    "    if data.loc[i, 'price'] <= 321950:\n",
    "        data.loc[i, 'level'] = 0\n",
    "    elif ( data.loc[i, 'price'] > 321950 ) & ( data.loc[i, 'price'] <= 450000 ):\n",
    "        data.loc[i, 'level'] = 1\n",
    "    elif ( data.loc[i, 'price'] > 450000 ) & ( data.loc[i, 'price'] <= 645000 ):\n",
    "        data.loc[i, 'level'] = 2\n",
    "    else:\n",
    "        data.loc[i, 'level'] = 3\n",
    "\n"
   ],
   "metadata": {
    "collapsed": false,
    "pycharm": {
     "name": "#%%\n"
    }
   }
  },
  {
   "cell_type": "markdown",
   "source": [
    " # Pegando informaçoes do endereço das casas"
   ],
   "metadata": {
    "collapsed": false,
    "pycharm": {
     "name": "#%% md\n",
     "is_executing": true
    }
   }
  },
  {
   "cell_type": "code",
   "execution_count": 47,
   "outputs": [
    {
     "name": "stdout",
     "output_type": "stream",
     "text": [
      "Loop: 0/21613\n",
      "Loop: 1/21613\n",
      "Loop: 2/21613\n",
      "Loop: 3/21613\n",
      "Loop: 4/21613\n",
      "Loop: 5/21613\n",
      "Loop: 6/21613\n",
      "Loop: 7/21613\n",
      "Loop: 8/21613\n",
      "Loop: 9/21613\n",
      "Loop: 10/21613\n"
     ]
    },
    {
     "ename": "KeyError",
     "evalue": "'house_number'",
     "output_type": "error",
     "traceback": [
      "\u001B[1;31m---------------------------------------------------------------------------\u001B[0m",
      "\u001B[1;31mKeyError\u001B[0m                                  Traceback (most recent call last)",
      "\u001B[1;32m<ipython-input-47-a3e7a4519a3b>\u001B[0m in \u001B[0;36m<module>\u001B[1;34m\u001B[0m\n\u001B[0;32m     16\u001B[0m     \u001B[0mresponse\u001B[0m \u001B[1;33m=\u001B[0m \u001B[0mgeolocator\u001B[0m\u001B[1;33m.\u001B[0m\u001B[0mreverse\u001B[0m\u001B[1;33m(\u001B[0m \u001B[0mquery\u001B[0m \u001B[1;33m)\u001B[0m\u001B[1;33m\u001B[0m\u001B[1;33m\u001B[0m\u001B[0m\n\u001B[0;32m     17\u001B[0m \u001B[1;33m\u001B[0m\u001B[0m\n\u001B[1;32m---> 18\u001B[1;33m     \u001B[1;32mif\u001B[0m \u001B[1;34m'house_number'\u001B[0m \u001B[1;32min\u001B[0m \u001B[0mresponse\u001B[0m\u001B[1;33m.\u001B[0m\u001B[0mraw\u001B[0m\u001B[1;33m[\u001B[0m\u001B[1;34m'address'\u001B[0m\u001B[1;33m]\u001B[0m\u001B[1;33m[\u001B[0m\u001B[1;34m'house_number'\u001B[0m\u001B[1;33m]\u001B[0m\u001B[1;33m:\u001B[0m\u001B[1;33m\u001B[0m\u001B[1;33m\u001B[0m\u001B[0m\n\u001B[0m\u001B[0;32m     19\u001B[0m         \u001B[0mdata\u001B[0m\u001B[1;33m.\u001B[0m\u001B[0mloc\u001B[0m\u001B[1;33m[\u001B[0m\u001B[0mi\u001B[0m\u001B[1;33m,\u001B[0m \u001B[1;34m'house_number'\u001B[0m\u001B[1;33m]\u001B[0m \u001B[1;33m=\u001B[0m \u001B[0mresponse\u001B[0m\u001B[1;33m.\u001B[0m\u001B[0mraw\u001B[0m\u001B[1;33m[\u001B[0m\u001B[1;34m'address'\u001B[0m\u001B[1;33m]\u001B[0m\u001B[1;33m[\u001B[0m\u001B[1;34m'house_number'\u001B[0m\u001B[1;33m]\u001B[0m\u001B[1;33m\u001B[0m\u001B[1;33m\u001B[0m\u001B[0m\n\u001B[0;32m     20\u001B[0m \u001B[1;33m\u001B[0m\u001B[0m\n",
      "\u001B[1;31mKeyError\u001B[0m: 'house_number'"
     ]
    }
   ],
   "source": [
    "from geopy.geocoders import Nominatim\n",
    "\n",
    "# Initialize API\n",
    "\n",
    "geolocator = Nominatim( user_agent='geoapiExercises' )\n",
    "\n",
    "# create empty\n",
    "data.loc[:, 'house_number'] = 'NA'\n",
    "data.loc[:, 'road'] = 'NA'\n",
    "\n",
    "# processing data\n",
    "for i in range( len(data) ):\n",
    "    print( 'Loop: {}/{}'.format( i, len( data ) ) )\n",
    "\n",
    "    query = str( data.loc[i, 'lat'] ) + ',' + str( data.loc[i, 'long'] )\n",
    "    response = geolocator.reverse( query )\n",
    "\n",
    "    if 'house_number' in response.raw['address']['house_number']:\n",
    "        data.loc[i, 'house_number'] = response.raw['address']['house_number']\n",
    "\n",
    "    if 'road' in response.raw['address']['road']:\n",
    "        data.loc[i, 'road'] = response.raw['address']['road']\n",
    "\n",
    "\n"
   ],
   "metadata": {
    "collapsed": false,
    "pycharm": {
     "name": "#%%\n"
    }
   }
  },
  {
   "cell_type": "code",
   "source": [
    "response = geolocator.reverse('lat, log') # vai retornar um json(que é um dicionario) que em algumas chaves tem outros json(que é um dicionario) dentro dele"
   ],
   "metadata": {
    "collapsed": false,
    "pycharm": {
     "name": "#%%\n"
    }
   },
   "execution_count": null,
   "outputs": []
  },
  {
   "cell_type": "markdown",
   "source": [
    "# Doing Map"
   ],
   "metadata": {
    "collapsed": false,
    "pycharm": {
     "name": "#%% md\n"
    }
   }
  },
  {
   "cell_type": "code",
   "execution_count": null,
   "outputs": [],
   "source": [
    "import plotly.express as px\n",
    "\n",
    "houses = data[['id', 'lat', 'long', 'price', 'level']].copy() # temos que fazer esse copy, pois senao ele vai ficar trabalhando com o ponteiro de data e nao com uma copia de data\n",
    "\n",
    "fig = px.scatter_mapbox( houses,\n",
    "                   lat='lat',\n",
    "                   lon='long',\n",
    "                   color='level',\n",
    "                   size='price',\n",
    "                   color_continuous_scale=px.colors.cyclical.Twilight,\n",
    "                   size_max=15,\n",
    "                   zoom=10 )\n",
    "\n",
    "fig.update_layout( mapbox_style='white-bg' )"
   ],
   "metadata": {
    "collapsed": false,
    "pycharm": {
     "name": "#%%\n"
    }
   }
  },
  {
   "cell_type": "code",
   "execution_count": null,
   "outputs": [],
   "source": [],
   "metadata": {
    "collapsed": false,
    "pycharm": {
     "name": "#%%\n"
    }
   }
  }
 ],
 "metadata": {
  "kernelspec": {
   "display_name": "Python 3",
   "language": "python",
   "name": "python3"
  },
  "language_info": {
   "codemirror_mode": {
    "name": "ipython",
    "version": 2
   },
   "file_extension": ".py",
   "mimetype": "text/x-python",
   "name": "python",
   "nbconvert_exporter": "python",
   "pygments_lexer": "ipython2",
   "version": "2.7.6"
  }
 },
 "nbformat": 4,
 "nbformat_minor": 0
}