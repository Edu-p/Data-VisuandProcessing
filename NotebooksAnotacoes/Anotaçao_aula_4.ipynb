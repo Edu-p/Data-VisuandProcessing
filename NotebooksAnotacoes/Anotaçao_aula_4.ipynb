{
 "cells": [
  {
   "cell_type": "markdown",
   "metadata": {
    "heading_collapsed": true
   },
   "source": [
    "# Listas"
   ]
  },
  {
   "cell_type": "code",
   "execution_count": 23,
   "metadata": {
    "ExecuteTime": {
     "end_time": "2021-03-23T18:15:51.684108Z",
     "start_time": "2021-03-23T18:15:51.675109Z"
    },
    "hidden": true
   },
   "outputs": [
    {
     "name": "stdout",
     "output_type": "stream",
     "text": [
      "['seja', 1, 'cientista', 10, [10, 'dua', 41], 50, 40]\n"
     ]
    },
    {
     "data": {
      "text/plain": [
       "7"
      ]
     },
     "execution_count": 23,
     "metadata": {},
     "output_type": "execute_result"
    }
   ],
   "source": [
    "# Estruturas de dados - Lista\n",
    "# posiçao da lista\n",
    "\n",
    "# [ 2,3,4,5,6,7,8 ] -> valores\n",
    "# [ 0,1,2,3,4,5,6 ] -> posiçoes\n",
    "\n",
    "# Lista de numeros\n",
    "a = [ 2,3,4,5,6,7,8 ]\n",
    "\n",
    "# Lista de String\n",
    "b = [ 'seja', 'um', 'cientista', 'de', 'dados' ]\n",
    "\n",
    "# Lista de String + numeros\n",
    "c = [ 'seja', 1, 'cientista', 10, [10,'dua',41] ]\n",
    "\n",
    "# Como adicionar um novo elemento na lista\n",
    "c.append( 50 ) # Sempre Coloca o elemento no final da lista\n",
    "\n",
    "c.insert( 10, 40 ) # Sempre colocar o elemento na posicao desejada ( posicao, elemento )\n",
    "\n",
    "# Como medir o tamanho da lista\n",
    "print( c )\n",
    "len( c )\n",
    "\n",
    "# Criar lista vazia\n",
    "d = []"
   ]
  },
  {
   "cell_type": "code",
   "execution_count": 21,
   "metadata": {
    "ExecuteTime": {
     "end_time": "2021-03-23T18:14:35.143273Z",
     "start_time": "2021-03-23T18:14:35.139271Z"
    },
    "hidden": true
   },
   "outputs": [
    {
     "name": "stdout",
     "output_type": "stream",
     "text": [
      "cientista\n",
      "41\n",
      "['seja', 1, 'cientista', 10, [10, 'dua', 41], 50, 40]\n"
     ]
    }
   ],
   "source": [
    "print(b[2])\n",
    "print( c[4][2])\n",
    "print(c[0:7])"
   ]
  },
  {
   "cell_type": "markdown",
   "metadata": {
    "heading_collapsed": true
   },
   "source": [
    "# Estrutura de controle - Condicional"
   ]
  },
  {
   "cell_type": "code",
   "execution_count": null,
   "metadata": {
    "hidden": true
   },
   "outputs": [],
   "source": [
    "# Condicionais que temos:\n",
    "# igual\n",
    "# maior\n",
    "# maior ou igual \n",
    "# menor \n",
    "# menor ou igual"
   ]
  },
  {
   "cell_type": "code",
   "execution_count": 24,
   "metadata": {
    "ExecuteTime": {
     "end_time": "2021-03-23T18:28:06.442143Z",
     "start_time": "2021-03-23T18:27:55.192287Z"
    },
    "hidden": true
   },
   "outputs": [],
   "source": [
    "import pandas as pd"
   ]
  },
  {
   "cell_type": "code",
   "execution_count": 30,
   "metadata": {
    "ExecuteTime": {
     "end_time": "2021-03-23T18:30:40.336392Z",
     "start_time": "2021-03-23T18:30:40.276390Z"
    },
    "hidden": true
   },
   "outputs": [],
   "source": [
    "data = pd.read_csv( 'C:/Users/PICHAU/Desktop/AnaliseDeDados/DataAnalysis/datasets/kc_house_data.csv' ) "
   ]
  },
  {
   "cell_type": "code",
   "execution_count": 37,
   "metadata": {
    "ExecuteTime": {
     "end_time": "2021-03-23T18:42:41.281886Z",
     "start_time": "2021-03-23T18:42:41.268884Z"
    },
    "code_folding": [],
    "hidden": true
   },
   "outputs": [
    {
     "name": "stdout",
     "output_type": "stream",
     "text": [
      "(3682, 21)\n",
      "(11441, 21)\n"
     ]
    }
   ],
   "source": [
    "# Logicas E( and )\n",
    "# Logica de multiplicaçao\n",
    "\n",
    "# Bedrooms | floors\n",
    "# TRUE     | TRUE -> Resultado\n",
    "# TRUE     | FALSE -> ERRO\n",
    "\n",
    "# Logicas OU( or )\n",
    "# Logica de soma\n",
    "\n",
    "# Bedrooms | floors\n",
    "# TRUE     | TRUE -> Resultado\n",
    "# TRUE     | FALSE -> Resultado\n",
    "# FALSE     | FALSE -> Erro\n",
    "\n",
    "\n",
    "df = data[(data['bedrooms'] == 4) & (data['floors'] == 2)]\n",
    "print(df.shape)\n",
    "\n",
    "df2 = data[(data['bedrooms'] == 4) | (data['floors'] == 2)]\n",
    "print(df2.shape)"
   ]
  },
  {
   "cell_type": "code",
   "execution_count": 45,
   "metadata": {
    "ExecuteTime": {
     "end_time": "2021-03-23T18:55:35.591434Z",
     "start_time": "2021-03-23T18:55:35.575434Z"
    },
    "hidden": true
   },
   "outputs": [],
   "source": [
    "# 1. Quantidade de imoveis por nivel?\n",
    "#     - nivel 0 : Preço entre 0 e 321.950\n",
    "#     - nivel 1 : Preço entre 321.950 e 450.000\n",
    "#     - nivel 2 : Preço entre 450.000 e 645.000\n",
    "#     - nivel 3 : Preço acima de 645.000\n",
    "\n",
    "data['nivel'] = 'standard'\n",
    "data.loc[(data['price'] >= 0) & (data['price'] <= 321950), 'nivel'] = '0'\n",
    "data.loc[(data['price'] > 321950) & (data['price'] <= 450000), 'nivel'] = '1'\n",
    "data.loc[(data['price'] > 450000) & (data['price'] <= 645000), 'nivel'] = '2'\n",
    "data.loc[data['price'] > 645000, 'nivel'] = '3'\n",
    "\n",
    "# muito ruim essa soluçao, tem outra melhor!"
   ]
  },
  {
   "cell_type": "markdown",
   "metadata": {},
   "source": [
    "# Estruturas de controle - laços"
   ]
  },
  {
   "cell_type": "code",
   "execution_count": null,
   "metadata": {
    "ExecuteTime": {
     "start_time": "2021-03-23T19:15:07.815Z"
    }
   },
   "outputs": [],
   "source": [
    "# loop for\n",
    "for i in range( len(data) ):\n",
    "    if (data.loc[i , 'price'] > 0) & (data.loc[i,'price'] < 321950):\n",
    "        data[i,'nivel'] = '0'\n",
    "    else if (data.loc[i , 'price'] >= 321950) & (data.loc[i,'price'] < 450000):\n",
    "        data[i,'nivel'] = '1'\n",
    "    else if (data.loc[i , 'price'] > 450000) & (data.loc[i,'price'] < 645000):\n",
    "        data[i,'nivel'] = '2'\n",
    "    else:\n",
    "        data.loc[i,'nivel'] = '3'"
   ]
  },
  {
   "cell_type": "markdown",
   "metadata": {
    "heading_collapsed": true
   },
   "source": [
    "# Perguntas CEO da Semana"
   ]
  },
  {
   "cell_type": "code",
   "execution_count": 44,
   "metadata": {
    "ExecuteTime": {
     "end_time": "2021-03-23T18:54:36.570935Z",
     "start_time": "2021-03-23T18:54:36.552934Z"
    },
    "hidden": true
   },
   "outputs": [],
   "source": [
    "# 1. Quantidade de imoveis por nivel?\n",
    "#     - nivel 0 : Preço entre 0 e 321.950\n",
    "#     - nivel 1 : Preço entre 321.950 e 450.000\n",
    "#     - nivel 2 : Preço entre 450.000 e 645.000\n",
    "#     - nivel 3 : Preço acima de 645.000\n",
    "\n",
    "data['nivel'] = 'standard'\n",
    "data.loc[(data['price'] >= 0) & (data['price'] <= 321950), 'nivel'] = '0'\n",
    "data.loc[(data['price'] > 321950) & (data['price'] <= 450000), 'nivel'] = '1'\n",
    "data.loc[(data['price'] > 450000) & (data['price'] <= 645000), 'nivel'] = '2'\n",
    "data.loc[data['price'] > 645000, 'nivel'] = '3'\n"
   ]
  },
  {
   "cell_type": "code",
   "execution_count": null,
   "metadata": {
    "hidden": true
   },
   "outputs": [],
   "source": []
  },
  {
   "cell_type": "code",
   "execution_count": null,
   "metadata": {
    "hidden": true
   },
   "outputs": [],
   "source": []
  },
  {
   "cell_type": "code",
   "execution_count": null,
   "metadata": {
    "hidden": true
   },
   "outputs": [],
   "source": []
  }
 ],
 "metadata": {
  "kernelspec": {
   "display_name": "Python 3",
   "language": "python",
   "name": "python3"
  },
  "language_info": {
   "codemirror_mode": {
    "name": "ipython",
    "version": 3
   },
   "file_extension": ".py",
   "mimetype": "text/x-python",
   "name": "python",
   "nbconvert_exporter": "python",
   "pygments_lexer": "ipython3",
   "version": "3.8.5"
  },
  "latex_envs": {
   "LaTeX_envs_menu_present": true,
   "autoclose": false,
   "autocomplete": true,
   "bibliofile": "biblio.bib",
   "cite_by": "apalike",
   "current_citInitial": 1,
   "eqLabelWithNumbers": true,
   "eqNumInitial": 1,
   "hotkeys": {
    "equation": "Ctrl-E",
    "itemize": "Ctrl-I"
   },
   "labels_anchors": false,
   "latex_user_defs": false,
   "report_style_numbering": false,
   "user_envs_cfg": false
  },
  "varInspector": {
   "cols": {
    "lenName": 16,
    "lenType": 16,
    "lenVar": 40
   },
   "kernels_config": {
    "python": {
     "delete_cmd_postfix": "",
     "delete_cmd_prefix": "del ",
     "library": "var_list.py",
     "varRefreshCmd": "print(var_dic_list())"
    },
    "r": {
     "delete_cmd_postfix": ") ",
     "delete_cmd_prefix": "rm(",
     "library": "var_list.r",
     "varRefreshCmd": "cat(var_dic_list()) "
    }
   },
   "types_to_exclude": [
    "module",
    "function",
    "builtin_function_or_method",
    "instance",
    "_Feature"
   ],
   "window_display": false
  }
 },
 "nbformat": 4,
 "nbformat_minor": 4
}
