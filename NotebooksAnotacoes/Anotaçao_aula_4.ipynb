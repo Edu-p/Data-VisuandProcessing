{
 "cells": [
  {
   "cell_type": "markdown",
   "metadata": {
    "heading_collapsed": true
   },
   "source": [
    "# Listas"
   ]
  },
  {
   "cell_type": "code",
   "execution_count": 23,
   "metadata": {
    "ExecuteTime": {
     "end_time": "2021-03-23T18:15:51.684108Z",
     "start_time": "2021-03-23T18:15:51.675109Z"
    },
    "hidden": true
   },
   "outputs": [
    {
     "name": "stdout",
     "output_type": "stream",
     "text": [
      "['seja', 1, 'cientista', 10, [10, 'dua', 41], 50, 40]\n"
     ]
    },
    {
     "data": {
      "text/plain": [
       "7"
      ]
     },
     "execution_count": 23,
     "metadata": {},
     "output_type": "execute_result"
    }
   ],
   "source": [
    "# Estruturas de dados - Lista\n",
    "# posiçao da lista\n",
    "\n",
    "# [ 2,3,4,5,6,7,8 ] -> valores\n",
    "# [ 0,1,2,3,4,5,6 ] -> posiçoes\n",
    "\n",
    "# Lista de numeros\n",
    "a = [ 2,3,4,5,6,7,8 ]\n",
    "\n",
    "# Lista de String\n",
    "b = [ 'seja', 'um', 'cientista', 'de', 'dados' ]\n",
    "\n",
    "# Lista de String + numeros\n",
    "c = [ 'seja', 1, 'cientista', 10, [10,'dua',41] ]\n",
    "\n",
    "# Como adicionar um novo elemento na lista\n",
    "c.append( 50 ) # Sempre Coloca o elemento no final da lista\n",
    "\n",
    "c.insert( 10, 40 ) # Sempre colocar o elemento na posicao desejada ( posicao, elemento )\n",
    "\n",
    "# Como medir o tamanho da lista\n",
    "print( c )\n",
    "len( c )\n",
    "\n",
    "# Criar lista vazia\n",
    "d = []"
   ]
  },
  {
   "cell_type": "code",
   "execution_count": 21,
   "metadata": {
    "ExecuteTime": {
     "end_time": "2021-03-23T18:14:35.143273Z",
     "start_time": "2021-03-23T18:14:35.139271Z"
    },
    "hidden": true
   },
   "outputs": [
    {
     "name": "stdout",
     "output_type": "stream",
     "text": [
      "cientista\n",
      "41\n",
      "['seja', 1, 'cientista', 10, [10, 'dua', 41], 50, 40]\n"
     ]
    }
   ],
   "source": [
    "print(b[2])\n",
    "print( c[4][2])\n",
    "print(c[0:7])"
   ]
  },
  {
   "cell_type": "markdown",
   "metadata": {
    "heading_collapsed": true
   },
   "source": [
    "# Estrutura de controle - Condicional"
   ]
  },
  {
   "cell_type": "code",
   "execution_count": null,
   "metadata": {
    "hidden": true
   },
   "outputs": [],
   "source": [
    "# Condicionais que temos:\n",
    "# igual\n",
    "# maior\n",
    "# maior ou igual \n",
    "# menor \n",
    "# menor ou igual"
   ]
  },
  {
   "cell_type": "code",
   "execution_count": 15,
   "metadata": {
    "ExecuteTime": {
     "end_time": "2021-03-24T18:16:35.093332Z",
     "start_time": "2021-03-24T18:16:35.089331Z"
    },
    "hidden": true
   },
   "outputs": [],
   "source": [
    "import pandas as pd"
   ]
  },
  {
   "cell_type": "code",
   "execution_count": 14,
   "metadata": {
    "ExecuteTime": {
     "end_time": "2021-03-24T18:16:33.190185Z",
     "start_time": "2021-03-24T18:16:33.130181Z"
    },
    "hidden": true
   },
   "outputs": [],
   "source": [
    "data = pd.read_csv( 'C:/Users/PICHAU/Desktop/AnaliseDeDados/DataAnalysis/datasets/kc_house_data.csv' ) "
   ]
  },
  {
   "cell_type": "code",
   "execution_count": 37,
   "metadata": {
    "ExecuteTime": {
     "end_time": "2021-03-23T18:42:41.281886Z",
     "start_time": "2021-03-23T18:42:41.268884Z"
    },
    "code_folding": [],
    "hidden": true
   },
   "outputs": [
    {
     "name": "stdout",
     "output_type": "stream",
     "text": [
      "(3682, 21)\n",
      "(11441, 21)\n"
     ]
    }
   ],
   "source": [
    "# Logicas E( and )\n",
    "# Logica de multiplicaçao\n",
    "\n",
    "# Bedrooms | floors\n",
    "# TRUE     | TRUE -> Resultado\n",
    "# TRUE     | FALSE -> ERRO\n",
    "\n",
    "# Logicas OU( or )\n",
    "# Logica de soma\n",
    "\n",
    "# Bedrooms | floors\n",
    "# TRUE     | TRUE -> Resultado\n",
    "# TRUE     | FALSE -> Resultado\n",
    "# FALSE     | FALSE -> Erro\n",
    "\n",
    "\n",
    "df = data[(data['bedrooms'] == 4) & (data['floors'] == 2)]\n",
    "print(df.shape)\n",
    "\n",
    "df2 = data[(data['bedrooms'] == 4) | (data['floors'] == 2)]\n",
    "print(df2.shape)"
   ]
  },
  {
   "cell_type": "code",
   "execution_count": 16,
   "metadata": {
    "ExecuteTime": {
     "end_time": "2021-03-24T18:16:43.627981Z",
     "start_time": "2021-03-24T18:16:43.073939Z"
    },
    "hidden": true
   },
   "outputs": [],
   "source": [
    "# 1. Quantidade de imoveis por nivel?\n",
    "#     - nivel 0 : Preço entre 0 e 321.950\n",
    "#     - nivel 1 : Preço entre 321.950 e 450.000\n",
    "#     - nivel 2 : Preço entre 450.000 e 645.000\n",
    "#     - nivel 3 : Preço acima de 645.000\n",
    "\n",
    "data['nivel'] = 'standard'\n",
    "data.loc[(data['price'] >= 0) & (data['price'] <= 321950), 'nivel'] = '0'\n",
    "data.loc[(data['price'] > 321950) & (data['price'] <= 450000), 'nivel'] = '1'\n",
    "data.loc[(data['price'] > 450000) & (data['price'] <= 645000), 'nivel'] = '2'\n",
    "data.loc[data['price'] > 645000, 'nivel'] = '3'\n",
    "\n",
    "# muito ruim essa soluçao, tem outra melhor!"
   ]
  },
  {
   "cell_type": "markdown",
   "metadata": {},
   "source": [
    "# Estruturas de controle - laços - For "
   ]
  },
  {
   "cell_type": "code",
   "execution_count": null,
   "metadata": {
    "ExecuteTime": {
     "start_time": "2021-03-24T18:16:52.184Z"
    }
   },
   "outputs": [],
   "source": [
    "# loop for\n",
    "for i in range( len(data) ):\n",
    "    if (data.loc[i , 'price'] > 0) & (data.loc[i,'price'] < 321950):\n",
    "        data[i,'nivel'] = '0'\n",
    "    elif (data.loc[i , 'price'] >= 321951) & (data.loc[i,'price'] < 450000):\n",
    "        data[i,'nivel'] = '1'\n",
    "    elif (data.loc[i , 'price'] >= 450001) & (data.loc[i,'price'] < 645000):\n",
    "        data[i,'nivel'] = '2'\n",
    "    else:\n",
    "        data.loc[i,'nivel'] = '3'"
   ]
  },
  {
   "cell_type": "markdown",
   "metadata": {
    "heading_collapsed": true
   },
   "source": [
    "# Estruturas de controle - laços - While ( API git hub )"
   ]
  },
  {
   "cell_type": "code",
   "execution_count": 11,
   "metadata": {
    "ExecuteTime": {
     "end_time": "2021-03-24T18:13:31.465328Z",
     "start_time": "2021-03-24T18:13:22.409638Z"
    },
    "code_folding": [],
    "hidden": true
   },
   "outputs": [
    {
     "name": "stdout",
     "output_type": "stream",
     "text": [
      "page:1\n",
      "                                     id       type\n",
      "0  a1cebcc1-45b8-4b0a-b770-bf72f137aae4  Full Time\n",
      "page:2\n",
      "                                     id       type\n",
      "0  599d0afa-4f25-4c9c-9111-d1d6ed67ba25  Full Time\n",
      "page:3\n",
      "                                     id       type\n",
      "0  7f4cae42-e5fd-4a43-8834-5c6da3b7b964  Full Time\n",
      "page:4\n",
      "                                     id       type\n",
      "0  c0663e20-d2b9-4518-b538-82abd9113f0e  Full Time\n",
      "page:5\n",
      "                                     id       type\n",
      "0  e634a600-34a2-4719-b587-b10e919d4fa6  Full Time\n",
      "page:6\n",
      "                                     id       type\n",
      "0  d7c9f130-f05b-4d6a-89e5-d04c6ff2c73b  Full Time\n",
      "page:7\n"
     ]
    }
   ],
   "source": [
    "import requests as r\n",
    "\n",
    "# ESSA É UMA API REST FULL\n",
    "# Laço while fica executando ate que a condiçao imposta seja falsa\n",
    "\n",
    "i = 1\n",
    "dataset = pd.DataFrame() # criando dataframe vazio\n",
    "while True: # laço que vai pegar todas as informaçoes das paginas que forem possiveis achar\n",
    "    print( 'page:{}'.format( i ) )\n",
    "    url = 'https://jobs.github.com/positions.json?utf8=%E2%9C%93&&page={}'.format( i )\n",
    "    response = r.request( 'GET', url )\n",
    "    \n",
    "    if response.json() != []: # quando  a pagina for vazia\n",
    "        data = response.json()[0] # o primeiro elemento da lista .json da pagina\n",
    "        df = pd.DataFrame( data, index=[0] )\n",
    "        \n",
    "        print( df[['id','type']] )\n",
    "        \n",
    "        dataset = pd.concat( [dataset,df], axis=0 ) # concatenar o dataset com o df, axis = 0 é devido que ele vai incrementando ao longo das colunas\n",
    "        \n",
    "        i = i + 1\n",
    "    else:\n",
    "        break\n",
    "        "
   ]
  },
  {
   "cell_type": "code",
   "execution_count": 6,
   "metadata": {
    "ExecuteTime": {
     "end_time": "2021-03-24T17:45:59.156704Z",
     "start_time": "2021-03-24T17:45:59.152704Z"
    },
    "hidden": true
   },
   "outputs": [],
   "source": [
    "df = pd.DataFrame(response.json()[0], index=[0])\n"
   ]
  },
  {
   "cell_type": "code",
   "execution_count": 7,
   "metadata": {
    "ExecuteTime": {
     "end_time": "2021-03-24T17:46:01.097853Z",
     "start_time": "2021-03-24T17:46:01.087851Z"
    },
    "hidden": true
   },
   "outputs": [
    {
     "data": {
      "text/html": [
       "<div>\n",
       "<style scoped>\n",
       "    .dataframe tbody tr th:only-of-type {\n",
       "        vertical-align: middle;\n",
       "    }\n",
       "\n",
       "    .dataframe tbody tr th {\n",
       "        vertical-align: top;\n",
       "    }\n",
       "\n",
       "    .dataframe thead th {\n",
       "        text-align: right;\n",
       "    }\n",
       "</style>\n",
       "<table border=\"1\" class=\"dataframe\">\n",
       "  <thead>\n",
       "    <tr style=\"text-align: right;\">\n",
       "      <th></th>\n",
       "      <th>id</th>\n",
       "      <th>type</th>\n",
       "    </tr>\n",
       "  </thead>\n",
       "  <tbody>\n",
       "    <tr>\n",
       "      <th>0</th>\n",
       "      <td>d2805568-a0d3-4dfe-8679-12e0b2dcb7c5</td>\n",
       "      <td>Full Time</td>\n",
       "    </tr>\n",
       "  </tbody>\n",
       "</table>\n",
       "</div>"
      ],
      "text/plain": [
       "                                     id       type\n",
       "0  d2805568-a0d3-4dfe-8679-12e0b2dcb7c5  Full Time"
      ]
     },
     "execution_count": 7,
     "metadata": {},
     "output_type": "execute_result"
    }
   ],
   "source": [
    "df[['id','type']]"
   ]
  },
  {
   "cell_type": "code",
   "execution_count": null,
   "metadata": {
    "hidden": true
   },
   "outputs": [],
   "source": []
  },
  {
   "cell_type": "code",
   "execution_count": null,
   "metadata": {
    "hidden": true
   },
   "outputs": [],
   "source": []
  },
  {
   "cell_type": "markdown",
   "metadata": {
    "heading_collapsed": true
   },
   "source": [
    "# Perguntas CEO da Semana"
   ]
  },
  {
   "cell_type": "code",
   "execution_count": 13,
   "metadata": {
    "ExecuteTime": {
     "end_time": "2021-03-24T18:16:11.662545Z",
     "start_time": "2021-03-24T18:16:11.649543Z"
    },
    "hidden": true
   },
   "outputs": [
    {
     "ename": "AttributeError",
     "evalue": "'dict' object has no attribute 'loc'",
     "output_type": "error",
     "traceback": [
      "\u001b[1;31m---------------------------------------------------------------------------\u001b[0m",
      "\u001b[1;31mAttributeError\u001b[0m                            Traceback (most recent call last)",
      "\u001b[1;32m<ipython-input-13-94c9290394f7>\u001b[0m in \u001b[0;36m<module>\u001b[1;34m\u001b[0m\n\u001b[0;32m      7\u001b[0m \u001b[0mdata\u001b[0m\u001b[1;33m[\u001b[0m\u001b[1;34m'nivel'\u001b[0m\u001b[1;33m]\u001b[0m \u001b[1;33m=\u001b[0m \u001b[1;34m'standard'\u001b[0m\u001b[1;33m\u001b[0m\u001b[1;33m\u001b[0m\u001b[0m\n\u001b[0;32m      8\u001b[0m \u001b[1;31m#data.loc[(data['price'] >= 0) & (data['price'] <= 321950), 'nivel'] = '0'\u001b[0m\u001b[1;33m\u001b[0m\u001b[1;33m\u001b[0m\u001b[1;33m\u001b[0m\u001b[0m\n\u001b[1;32m----> 9\u001b[1;33m \u001b[0mdata\u001b[0m\u001b[1;33m.\u001b[0m\u001b[0mloc\u001b[0m\u001b[1;33m[\u001b[0m\u001b[1;33m(\u001b[0m\u001b[0mdata\u001b[0m\u001b[1;33m[\u001b[0m\u001b[1;34m'price'\u001b[0m\u001b[1;33m]\u001b[0m \u001b[1;33m>\u001b[0m \u001b[1;36m321950\u001b[0m\u001b[1;33m)\u001b[0m \u001b[1;33m&\u001b[0m \u001b[1;33m(\u001b[0m\u001b[0mdata\u001b[0m\u001b[1;33m[\u001b[0m\u001b[1;34m'price'\u001b[0m\u001b[1;33m]\u001b[0m \u001b[1;33m<=\u001b[0m \u001b[1;36m450000\u001b[0m\u001b[1;33m)\u001b[0m\u001b[1;33m,\u001b[0m \u001b[1;34m'nivel'\u001b[0m\u001b[1;33m]\u001b[0m \u001b[1;33m=\u001b[0m \u001b[1;34m'1'\u001b[0m\u001b[1;33m\u001b[0m\u001b[1;33m\u001b[0m\u001b[0m\n\u001b[0m\u001b[0;32m     10\u001b[0m \u001b[0mdata\u001b[0m\u001b[1;33m.\u001b[0m\u001b[0mloc\u001b[0m\u001b[1;33m[\u001b[0m\u001b[1;33m(\u001b[0m\u001b[0mdata\u001b[0m\u001b[1;33m[\u001b[0m\u001b[1;34m'price'\u001b[0m\u001b[1;33m]\u001b[0m \u001b[1;33m>\u001b[0m \u001b[1;36m450000\u001b[0m\u001b[1;33m)\u001b[0m \u001b[1;33m&\u001b[0m \u001b[1;33m(\u001b[0m\u001b[0mdata\u001b[0m\u001b[1;33m[\u001b[0m\u001b[1;34m'price'\u001b[0m\u001b[1;33m]\u001b[0m \u001b[1;33m<=\u001b[0m \u001b[1;36m645000\u001b[0m\u001b[1;33m)\u001b[0m\u001b[1;33m,\u001b[0m \u001b[1;34m'nivel'\u001b[0m\u001b[1;33m]\u001b[0m \u001b[1;33m=\u001b[0m \u001b[1;34m'2'\u001b[0m\u001b[1;33m\u001b[0m\u001b[1;33m\u001b[0m\u001b[0m\n\u001b[0;32m     11\u001b[0m \u001b[0mdata\u001b[0m\u001b[1;33m.\u001b[0m\u001b[0mloc\u001b[0m\u001b[1;33m[\u001b[0m\u001b[0mdata\u001b[0m\u001b[1;33m[\u001b[0m\u001b[1;34m'price'\u001b[0m\u001b[1;33m]\u001b[0m \u001b[1;33m>\u001b[0m \u001b[1;36m645000\u001b[0m\u001b[1;33m,\u001b[0m \u001b[1;34m'nivel'\u001b[0m\u001b[1;33m]\u001b[0m \u001b[1;33m=\u001b[0m \u001b[1;34m'3'\u001b[0m\u001b[1;33m\u001b[0m\u001b[1;33m\u001b[0m\u001b[0m\n",
      "\u001b[1;31mAttributeError\u001b[0m: 'dict' object has no attribute 'loc'"
     ]
    }
   ],
   "source": [
    "# 1. Quantidade de imoveis por nivel?\n",
    "#     - nivel 0 : Preço entre 0 e 321.950\n",
    "#     - nivel 1 : Preço entre 321.950 e 450.000\n",
    "#     - nivel 2 : Preço entre 450.000 e 645.000\n",
    "#     - nivel 3 : Preço acima de 645.000\n",
    "\n",
    "data['nivel'] = 'standard'\n",
    "data.loc[(data['price'] >= 0) & (data['price'] <= 321950), 'nivel'] = '0'\n",
    "data.loc[(data['price'] > 321950) & (data['price'] <= 450000), 'nivel'] = '1'\n",
    "data.loc[(data['price'] > 450000) & (data['price'] <= 645000), 'nivel'] = '2'\n",
    "data.loc[data['price'] > 645000, 'nivel'] = '3'\n"
   ]
  },
  {
   "cell_type": "code",
   "execution_count": null,
   "metadata": {
    "hidden": true
   },
   "outputs": [],
   "source": []
  },
  {
   "cell_type": "code",
   "execution_count": null,
   "metadata": {
    "hidden": true
   },
   "outputs": [],
   "source": []
  },
  {
   "cell_type": "code",
   "execution_count": null,
   "metadata": {
    "hidden": true
   },
   "outputs": [],
   "source": []
  }
 ],
 "metadata": {
  "kernelspec": {
   "display_name": "Python 3",
   "language": "python",
   "name": "python3"
  },
  "language_info": {
   "codemirror_mode": {
    "name": "ipython",
    "version": 3
   },
   "file_extension": ".py",
   "mimetype": "text/x-python",
   "name": "python",
   "nbconvert_exporter": "python",
   "pygments_lexer": "ipython3",
   "version": "3.8.5"
  },
  "latex_envs": {
   "LaTeX_envs_menu_present": true,
   "autoclose": false,
   "autocomplete": true,
   "bibliofile": "biblio.bib",
   "cite_by": "apalike",
   "current_citInitial": 1,
   "eqLabelWithNumbers": true,
   "eqNumInitial": 1,
   "hotkeys": {
    "equation": "Ctrl-E",
    "itemize": "Ctrl-I"
   },
   "labels_anchors": false,
   "latex_user_defs": false,
   "report_style_numbering": false,
   "user_envs_cfg": false
  },
  "varInspector": {
   "cols": {
    "lenName": 16,
    "lenType": 16,
    "lenVar": 40
   },
   "kernels_config": {
    "python": {
     "delete_cmd_postfix": "",
     "delete_cmd_prefix": "del ",
     "library": "var_list.py",
     "varRefreshCmd": "print(var_dic_list())"
    },
    "r": {
     "delete_cmd_postfix": ") ",
     "delete_cmd_prefix": "rm(",
     "library": "var_list.r",
     "varRefreshCmd": "cat(var_dic_list()) "
    }
   },
   "types_to_exclude": [
    "module",
    "function",
    "builtin_function_or_method",
    "instance",
    "_Feature"
   ],
   "window_display": false
  }
 },
 "nbformat": 4,
 "nbformat_minor": 4
}
