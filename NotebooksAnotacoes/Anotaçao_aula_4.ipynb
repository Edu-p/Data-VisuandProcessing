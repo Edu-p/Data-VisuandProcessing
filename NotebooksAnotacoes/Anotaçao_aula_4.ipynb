{
 "cells": [
  {
   "cell_type": "markdown",
   "metadata": {},
   "source": [
    "# Listas"
   ]
  },
  {
   "cell_type": "code",
   "execution_count": 23,
   "metadata": {
    "ExecuteTime": {
     "end_time": "2021-03-23T18:15:51.684108Z",
     "start_time": "2021-03-23T18:15:51.675109Z"
    }
   },
   "outputs": [
    {
     "name": "stdout",
     "output_type": "stream",
     "text": [
      "['seja', 1, 'cientista', 10, [10, 'dua', 41], 50, 40]\n"
     ]
    },
    {
     "data": {
      "text/plain": [
       "7"
      ]
     },
     "execution_count": 23,
     "metadata": {},
     "output_type": "execute_result"
    }
   ],
   "source": [
    "# Estruturas de dados - Lista\n",
    "# posiçao da lista\n",
    "\n",
    "# [ 2,3,4,5,6,7,8 ] -> valores\n",
    "# [ 0,1,2,3,4,5,6 ] -> posiçoes\n",
    "\n",
    "# Lista de numeros\n",
    "a = [ 2,3,4,5,6,7,8 ]\n",
    "\n",
    "# Lista de String\n",
    "b = [ 'seja', 'um', 'cientista', 'de', 'dados' ]\n",
    "\n",
    "# Lista de String + numeros\n",
    "c = [ 'seja', 1, 'cientista', 10, [10,'dua',41] ]\n",
    "\n",
    "# Como adicionar um novo elemento na lista\n",
    "c.append( 50 ) # Sempre Coloca o elemento no final da lista\n",
    "\n",
    "c.insert( 10, 40 ) # Sempre colocar o elemento na posicao desejada ( posicao, elemento )\n",
    "\n",
    "# Como medir o tamanho da lista\n",
    "print( c )\n",
    "len( c )\n",
    "\n",
    "# Criar lista vazia\n",
    "d = []"
   ]
  },
  {
   "cell_type": "code",
   "execution_count": 21,
   "metadata": {
    "ExecuteTime": {
     "end_time": "2021-03-23T18:14:35.143273Z",
     "start_time": "2021-03-23T18:14:35.139271Z"
    }
   },
   "outputs": [
    {
     "name": "stdout",
     "output_type": "stream",
     "text": [
      "cientista\n",
      "41\n",
      "['seja', 1, 'cientista', 10, [10, 'dua', 41], 50, 40]\n"
     ]
    }
   ],
   "source": [
    "print(b[2])\n",
    "print( c[4][2])\n",
    "print(c[0:7])"
   ]
  },
  {
   "cell_type": "code",
   "execution_count": null,
   "metadata": {},
   "outputs": [],
   "source": []
  },
  {
   "cell_type": "code",
   "execution_count": null,
   "metadata": {},
   "outputs": [],
   "source": []
  },
  {
   "cell_type": "code",
   "execution_count": null,
   "metadata": {},
   "outputs": [],
   "source": []
  }
 ],
 "metadata": {
  "kernelspec": {
   "display_name": "Python 3",
   "language": "python",
   "name": "python3"
  },
  "language_info": {
   "codemirror_mode": {
    "name": "ipython",
    "version": 3
   },
   "file_extension": ".py",
   "mimetype": "text/x-python",
   "name": "python",
   "nbconvert_exporter": "python",
   "pygments_lexer": "ipython3",
   "version": "3.8.5"
  },
  "latex_envs": {
   "LaTeX_envs_menu_present": true,
   "autoclose": false,
   "autocomplete": true,
   "bibliofile": "biblio.bib",
   "cite_by": "apalike",
   "current_citInitial": 1,
   "eqLabelWithNumbers": true,
   "eqNumInitial": 1,
   "hotkeys": {
    "equation": "Ctrl-E",
    "itemize": "Ctrl-I"
   },
   "labels_anchors": false,
   "latex_user_defs": false,
   "report_style_numbering": false,
   "user_envs_cfg": false
  },
  "varInspector": {
   "cols": {
    "lenName": 16,
    "lenType": 16,
    "lenVar": 40
   },
   "kernels_config": {
    "python": {
     "delete_cmd_postfix": "",
     "delete_cmd_prefix": "del ",
     "library": "var_list.py",
     "varRefreshCmd": "print(var_dic_list())"
    },
    "r": {
     "delete_cmd_postfix": ") ",
     "delete_cmd_prefix": "rm(",
     "library": "var_list.r",
     "varRefreshCmd": "cat(var_dic_list()) "
    }
   },
   "types_to_exclude": [
    "module",
    "function",
    "builtin_function_or_method",
    "instance",
    "_Feature"
   ],
   "window_display": false
  }
 },
 "nbformat": 4,
 "nbformat_minor": 4
}
