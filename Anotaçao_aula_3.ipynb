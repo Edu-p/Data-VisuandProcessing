{
 "cells": [
  {
   "cell_type": "code",
   "execution_count": 4,
   "metadata": {},
   "outputs": [],
   "source": [
    "import pandas as pd"
   ]
  },
  {
   "cell_type": "code",
   "execution_count": null,
   "metadata": {},
   "outputs": [],
   "source": [
    "data = pd.read_csv( 'datasets/kc_house_data.csv' )"
   ]
  },
  {
   "cell_type": "markdown",
   "metadata": {},
   "source": [
    "# Primeiro contato com .groupby"
   ]
  },
  {
   "cell_type": "code",
   "execution_count": 10,
   "metadata": {},
   "outputs": [
    {
     "name": "stdout",
     "output_type": "stream",
     "text": [
      "(13, 21)\n",
      "(199, 21)\n",
      "(2760, 21)\n",
      "(9824, 21)\n",
      "(6882, 21)\n"
     ]
    }
   ],
   "source": [
    "# Quantos imoveis existem por numero de quartos\n",
    "    # forma de fazer nao inteligente, ja que tem como ter tantos tipos distintos \n",
    "    # que nao vai ser possivel fazer isso\n",
    "print(data[data[['bedrooms']]['bedrooms'] == 0].shape)\n",
    "print(data[data[['bedrooms']]['bedrooms'] == 1].shape)\n",
    "print(data[data[['bedrooms']]['bedrooms'] == 2].shape)\n",
    "print(data[data[['bedrooms']]['bedrooms'] == 3].shape)\n",
    "print(data[data[['bedrooms']]['bedrooms'] == 4].shape)"
   ]
  },
  {
   "cell_type": "code",
   "execution_count": 14,
   "metadata": {},
   "outputs": [
    {
     "data": {
      "text/plain": [
       "bedrooms\n",
       "0       13\n",
       "1      199\n",
       "2     2760\n",
       "3     9824\n",
       "4     6882\n",
       "5     1601\n",
       "6      272\n",
       "7       38\n",
       "8       13\n",
       "9        6\n",
       "10       3\n",
       "11       1\n",
       "33       1\n",
       "dtype: int64"
      ]
     },
     "execution_count": 14,
     "metadata": {},
     "output_type": "execute_result"
    }
   ],
   "source": [
    "# esse metodo .goupby é para justamnente fazer o qeu estavamos querendo\n",
    " # contar quantos apartamentos tem em cada quantidade de quartos\n",
    "\n",
    "data[['id','bedrooms']].groupby( 'bedrooms' ).size()"
   ]
  },
  {
   "cell_type": "code",
   "execution_count": 21,
   "metadata": {},
   "outputs": [],
   "source": [
    "df_grouped = data[['bedrooms']].groupby( 'bedrooms' )"
   ]
  },
  {
   "cell_type": "code",
   "execution_count": 22,
   "metadata": {},
   "outputs": [
    {
     "name": "stdout",
     "output_type": "stream",
     "text": [
      "numero de quartos: 0\n",
      "(13, 1)\n",
      "\n",
      "numero de quartos: 1\n",
      "(199, 1)\n",
      "\n",
      "numero de quartos: 2\n",
      "(2760, 1)\n",
      "\n",
      "numero de quartos: 3\n",
      "(9824, 1)\n",
      "\n",
      "numero de quartos: 4\n",
      "(6882, 1)\n",
      "\n",
      "numero de quartos: 5\n",
      "(1601, 1)\n",
      "\n",
      "numero de quartos: 6\n",
      "(272, 1)\n",
      "\n",
      "numero de quartos: 7\n",
      "(38, 1)\n",
      "\n",
      "numero de quartos: 8\n",
      "(13, 1)\n",
      "\n",
      "numero de quartos: 9\n",
      "(6, 1)\n",
      "\n",
      "numero de quartos: 10\n",
      "(3, 1)\n",
      "\n",
      "numero de quartos: 11\n",
      "(1, 1)\n",
      "\n",
      "numero de quartos: 33\n",
      "(1, 1)\n",
      "\n"
     ]
    }
   ],
   "source": [
    "# Como ir printando mais bonito na tela a nossas ideia acima\n",
    "\n",
    "for bedrooms, frame in df_grouped :\n",
    "    print( 'numero de quartos: {}'.format( bedrooms ) )\n",
    "    print( frame.shape, end='\\n\\n' )"
   ]
  },
  {
   "cell_type": "code",
   "execution_count": null,
   "metadata": {},
   "outputs": [],
   "source": [
    " for bedrooms, frame in df_grouped :\n",
    "    print( 'numero de quartos: {}'.format( bedrooms ) )\n",
    "    print( frame.head(4), end='\\n\\n' )"
   ]
  },
  {
   "cell_type": "markdown",
   "metadata": {},
   "source": [
    "# Respondendo as perguntas do CEO"
   ]
  },
  {
   "cell_type": "markdown",
   "metadata": {
    "pycharm": {
     "name": "#%% md\n"
    }
   },
   "source": [
    "   ## Qual o numero de imoveis por ano de construçao?\n"
   ]
  },
  {
   "cell_type": "code",
   "execution_count": 26,
   "metadata": {},
   "outputs": [
    {
     "data": {
      "text/html": [
       "<div>\n",
       "<style scoped>\n",
       "    .dataframe tbody tr th:only-of-type {\n",
       "        vertical-align: middle;\n",
       "    }\n",
       "\n",
       "    .dataframe tbody tr th {\n",
       "        vertical-align: top;\n",
       "    }\n",
       "\n",
       "    .dataframe thead th {\n",
       "        text-align: right;\n",
       "    }\n",
       "</style>\n",
       "<table border=\"1\" class=\"dataframe\">\n",
       "  <thead>\n",
       "    <tr style=\"text-align: right;\">\n",
       "      <th></th>\n",
       "      <th>id</th>\n",
       "    </tr>\n",
       "    <tr>\n",
       "      <th>yr_built</th>\n",
       "      <th></th>\n",
       "    </tr>\n",
       "  </thead>\n",
       "  <tbody>\n",
       "    <tr>\n",
       "      <th>1900</th>\n",
       "      <td>87</td>\n",
       "    </tr>\n",
       "    <tr>\n",
       "      <th>1901</th>\n",
       "      <td>29</td>\n",
       "    </tr>\n",
       "    <tr>\n",
       "      <th>1902</th>\n",
       "      <td>27</td>\n",
       "    </tr>\n",
       "    <tr>\n",
       "      <th>1903</th>\n",
       "      <td>46</td>\n",
       "    </tr>\n",
       "    <tr>\n",
       "      <th>1904</th>\n",
       "      <td>45</td>\n",
       "    </tr>\n",
       "    <tr>\n",
       "      <th>...</th>\n",
       "      <td>...</td>\n",
       "    </tr>\n",
       "    <tr>\n",
       "      <th>2011</th>\n",
       "      <td>130</td>\n",
       "    </tr>\n",
       "    <tr>\n",
       "      <th>2012</th>\n",
       "      <td>170</td>\n",
       "    </tr>\n",
       "    <tr>\n",
       "      <th>2013</th>\n",
       "      <td>201</td>\n",
       "    </tr>\n",
       "    <tr>\n",
       "      <th>2014</th>\n",
       "      <td>559</td>\n",
       "    </tr>\n",
       "    <tr>\n",
       "      <th>2015</th>\n",
       "      <td>38</td>\n",
       "    </tr>\n",
       "  </tbody>\n",
       "</table>\n",
       "<p>116 rows × 1 columns</p>\n",
       "</div>"
      ],
      "text/plain": [
       "           id\n",
       "yr_built     \n",
       "1900       87\n",
       "1901       29\n",
       "1902       27\n",
       "1903       46\n",
       "1904       45\n",
       "...       ...\n",
       "2011      130\n",
       "2012      170\n",
       "2013      201\n",
       "2014      559\n",
       "2015       38\n",
       "\n",
       "[116 rows x 1 columns]"
      ]
     },
     "execution_count": 26,
     "metadata": {},
     "output_type": "execute_result"
    }
   ],
   "source": [
    "# Sempre ter em mente duas coisas, quem é operador e quem é o filtro( nesse caso é o imoveis e ano de construçao ) )\n",
    "data[['id','yr_built']].groupby( 'yr_built' ).count()"
   ]
  },
  {
   "cell_type": "markdown",
   "metadata": {},
   "source": [
    "## Qual o menor numero de quartos por ano de construçao dos imoveis?"
   ]
  },
  {
   "cell_type": "code",
   "execution_count": null,
   "metadata": {},
   "outputs": [],
   "source": [
    "# Agora o operador é bedrooms e filtro é o ano denovo\n",
    "data[['id','yr_built']].groupby( 'yr_built' )"
   ]
  },
  {
   "cell_type": "code",
   "execution_count": null,
   "metadata": {},
   "outputs": [],
   "source": []
  },
  {
   "cell_type": "code",
   "execution_count": null,
   "metadata": {},
   "outputs": [],
   "source": []
  },
  {
   "cell_type": "code",
   "execution_count": null,
   "metadata": {},
   "outputs": [],
   "source": []
  }
 ],
 "metadata": {
  "kernelspec": {
   "display_name": "Python 3",
   "language": "python",
   "name": "python3"
  },
  "language_info": {
   "codemirror_mode": {
    "name": "ipython",
    "version": 3
   },
   "file_extension": ".py",
   "mimetype": "text/x-python",
   "name": "python",
   "nbconvert_exporter": "python",
   "pygments_lexer": "ipython3",
   "version": "3.8.5"
  }
 },
 "nbformat": 4,
 "nbformat_minor": 4
}
